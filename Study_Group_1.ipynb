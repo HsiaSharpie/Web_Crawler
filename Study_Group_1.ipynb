{
 "cells": [
  {
   "cell_type": "markdown",
   "metadata": {},
   "source": [
    "### Python Study Group week 1"
   ]
  },
  {
   "cell_type": "markdown",
   "metadata": {},
   "source": [
    "### Theme:"
   ]
  },
  {
   "cell_type": "markdown",
   "metadata": {},
   "source": [
    "------------------------------------------------------------"
   ]
  },
  {
   "cell_type": "markdown",
   "metadata": {},
   "source": [
    "### Let's get it started !"
   ]
  },
  {
   "cell_type": "markdown",
   "metadata": {},
   "source": [
    "### Import Libraries"
   ]
  },
  {
   "cell_type": "code",
   "execution_count": 2,
   "metadata": {},
   "outputs": [],
   "source": [
    "import requests\n",
    "from bs4 import BeautifulSoup\n",
    "from tqdm import tqdm_notebook\n",
    "from IPython.display import clear_output\n",
    "\n",
    "import numpy as np\n",
    "import pandas as pd\n",
    "import os"
   ]
  },
  {
   "cell_type": "markdown",
   "metadata": {},
   "source": [
    "### 撰寫對網站發出請求(requests)的function"
   ]
  },
  {
   "cell_type": "markdown",
   "metadata": {},
   "source": [
    "Note: 因後續會不斷使用到，故我們可把它寫成一個簡短的function以便後續重複使用。"
   ]
  },
  {
   "cell_type": "code",
   "execution_count": 3,
   "metadata": {},
   "outputs": [],
   "source": [
    "def get_web_page(url):\n",
    "    resp = requests.get(url)\n",
    "    resp.encoding = 'utf-8'\n",
    "    \n",
    "    if resp.status_code != 200:\n",
    "        print('Invalid url:', resp.url)\n",
    "        return None\n",
    "    else:\n",
    "        return resp.text"
   ]
  },
  {
   "cell_type": "markdown",
   "metadata": {},
   "source": [
    "----------------------------------------------------------"
   ]
  },
  {
   "cell_type": "markdown",
   "metadata": {},
   "source": [
    "### Parse HTML"
   ]
  },
  {
   "cell_type": "markdown",
   "metadata": {},
   "source": [
    "```\n",
    "Target:\n",
    "我們想取得熱門電影資訊，並把它整理成 DataFrame 形式。\n",
    "```"
   ]
  },
  {
   "cell_type": "markdown",
   "metadata": {},
   "source": [
    "```\n",
    "Note:\n",
    "(1) 在此範例使用 BeautifulSoup 去解析 HTML。\n",
    "(2) 除了 if/else 外，在寫爬蟲時經常會使用 try/except 方式撰寫，以避免產生錯誤時突然中斷程式。\n",
    "```"
   ]
  },
  {
   "cell_type": "code",
   "execution_count": 4,
   "metadata": {},
   "outputs": [],
   "source": [
    "def get_popular_movie_intro(dom):\n",
    "    soup = BeautifulSoup(dom, 'html.parser')\n",
    "    \n",
    "    # get information by rows\n",
    "    movie_rows = soup.find_all('div', class_='tr')\n",
    "    \n",
    "    movie_urls = []\n",
    "    movie_info = []\n",
    "    \n",
    "    for index, row in enumerate(movie_rows):\n",
    "        if index == 0:\n",
    "            cols = row.text.split('\\n')\n",
    "            cols = [col for col in cols if col]  # remove empty element in list\n",
    "            cols.remove('預告片')\n",
    "            print(cols)\n",
    "            \n",
    "        elif index == 1:\n",
    "            first_col = row.text.split()\n",
    "\n",
    "        else:\n",
    "            try:\n",
    "                thisweek_rank = row.find_next('div', class_='td')\n",
    "                temp = thisweek_rank.find_next('div', class_='td') # it will be empty\n",
    "                lastweek_rank = temp.find_next('div', class_='td')\n",
    "\n",
    "                \n",
    "                movie_name = lastweek_rank.find_next('div', class_='td')\n",
    "                release_date = movie_name.find_next('div', class_='td')\n",
    "                movie_urls.append(lastweek_rank.find_next('div', class_='td').find('a')['href'])\n",
    "                count = row.find('div', class_='td starwithnum').find('h6', class_='count')\n",
    "                \n",
    "                movie_info.append([thisweek_rank.text, lastweek_rank.text, movie_name.text.strip(), release_date.text, float(count.text)])\n",
    "                \n",
    "                # transform movie_info from list to 2d-array\n",
    "                movie_info_arr = np.array(movie_info)\n",
    "                \n",
    "                # transform movie_info_arr to dataframe\n",
    "                movie_df = pd.DataFrame(movie_info_arr, columns=cols)\n",
    "                \n",
    "            except:\n",
    "                continue\n",
    "    \n",
    "    return movie_df, movie_urls"
   ]
  },
  {
   "cell_type": "markdown",
   "metadata": {},
   "source": [
    "```\n",
    "撰寫完成\n",
    "- 發出請求 \n",
    "- 爬取電影資料 \n",
    "兩個 function，我們就可把參數餵進去取得想要的資料。\n",
    "```"
   ]
  },
  {
   "cell_type": "code",
   "execution_count": 5,
   "metadata": {},
   "outputs": [
    {
     "name": "stdout",
     "output_type": "stream",
     "text": [
      "['本週', '上週', '片名', '上映日期', '網友滿意度']\n"
     ]
    },
    {
     "data": {
      "text/html": [
       "<div>\n",
       "<style scoped>\n",
       "    .dataframe tbody tr th:only-of-type {\n",
       "        vertical-align: middle;\n",
       "    }\n",
       "\n",
       "    .dataframe tbody tr th {\n",
       "        vertical-align: top;\n",
       "    }\n",
       "\n",
       "    .dataframe thead th {\n",
       "        text-align: right;\n",
       "    }\n",
       "</style>\n",
       "<table border=\"1\" class=\"dataframe\">\n",
       "  <thead>\n",
       "    <tr style=\"text-align: right;\">\n",
       "      <th></th>\n",
       "      <th>本週</th>\n",
       "      <th>上週</th>\n",
       "      <th>片名</th>\n",
       "      <th>上映日期</th>\n",
       "      <th>網友滿意度</th>\n",
       "    </tr>\n",
       "  </thead>\n",
       "  <tbody>\n",
       "    <tr>\n",
       "      <th>0</th>\n",
       "      <td>2</td>\n",
       "      <td>1</td>\n",
       "      <td>黑魔女2</td>\n",
       "      <td>2019-10-17</td>\n",
       "      <td>4.1</td>\n",
       "    </tr>\n",
       "    <tr>\n",
       "      <th>1</th>\n",
       "      <td>3</td>\n",
       "      <td>2</td>\n",
       "      <td>小丑</td>\n",
       "      <td>2019-10-03</td>\n",
       "      <td>4.5</td>\n",
       "    </tr>\n",
       "    <tr>\n",
       "      <th>2</th>\n",
       "      <td>4</td>\n",
       "      <td></td>\n",
       "      <td>陪你很久很久</td>\n",
       "      <td>2019-10-25</td>\n",
       "      <td>4.3</td>\n",
       "    </tr>\n",
       "    <tr>\n",
       "      <th>3</th>\n",
       "      <td>5</td>\n",
       "      <td>3</td>\n",
       "      <td>返校</td>\n",
       "      <td>2019-09-20</td>\n",
       "      <td>4.3</td>\n",
       "    </tr>\n",
       "    <tr>\n",
       "      <th>4</th>\n",
       "      <td>6</td>\n",
       "      <td></td>\n",
       "      <td>金翅雀</td>\n",
       "      <td>2019-10-25</td>\n",
       "      <td>3.9</td>\n",
       "    </tr>\n",
       "  </tbody>\n",
       "</table>\n",
       "</div>"
      ],
      "text/plain": [
       "  本週 上週      片名        上映日期 網友滿意度\n",
       "0  2  1    黑魔女2  2019-10-17   4.1\n",
       "1  3  2      小丑  2019-10-03   4.5\n",
       "2  4     陪你很久很久  2019-10-25   4.3\n",
       "3  5  3      返校  2019-09-20   4.3\n",
       "4  6        金翅雀  2019-10-25   3.9"
      ]
     },
     "execution_count": 5,
     "metadata": {},
     "output_type": "execute_result"
    }
   ],
   "source": [
    "# Target url: Yahoo Movie (url)\n",
    "popmovie_url = 'https://movies.yahoo.com.tw/chart.html'\n",
    "\n",
    "popular_movie = get_web_page(popmovie_url)\n",
    "movie_df, movie_urls = get_popular_movie_intro(popular_movie)\n",
    "movie_df.head() "
   ]
  },
  {
   "cell_type": "markdown",
   "metadata": {},
   "source": [
    "----------------------------------------------------------"
   ]
  },
  {
   "cell_type": "markdown",
   "metadata": {},
   "source": [
    "### 一些簡單小探索"
   ]
  },
  {
   "cell_type": "markdown",
   "metadata": {},
   "source": [
    "由以上之熱門電影，我們可能想知道為何此幾部電影會如此熱門，可能是導演、演員、劇情細節···等。"
   ]
  },
  {
   "cell_type": "markdown",
   "metadata": {},
   "source": [
    ">搜集演員人氣資訊"
   ]
  },
  {
   "cell_type": "markdown",
   "metadata": {},
   "source": [
    "取得演員名稱與演員人氣資訊 -> 使用 dictionary 形成映射。"
   ]
  },
  {
   "cell_type": "code",
   "execution_count": 6,
   "metadata": {},
   "outputs": [],
   "source": [
    "def get_pop_num(movie_urls):\n",
    "    actor_pop = {}\n",
    "    \n",
    "    for index, url in enumerate(movie_urls):\n",
    "        # 取得前五名電影之 url 以探索\n",
    "        if index <= 5:\n",
    "            movie_page = get_web_page(url)\n",
    "            movie_soup = BeautifulSoup(movie_page, 'html.parser')\n",
    "            movie_name = movie_soup.find('div', class_='movie_intro_info_r').find('h1').text\n",
    "            actor_list = movie_soup.find_all('div', class_='movie_intro_list')[1].find_all('a')\n",
    "\n",
    "            actor_href = [actor['href'] for actor in actor_list]\n",
    "\n",
    "            for href in actor_href:\n",
    "                actor_page = get_web_page(href)\n",
    "                actor_soup = BeautifulSoup(actor_page, 'html.parser')\n",
    "\n",
    "                name = actor_soup.find('h1', class_='maker_name').text\n",
    "                name = name + '(' + movie_name + ')'\n",
    "                popular = int(actor_soup.find('div', class_='popnum').text.split('：')[1])\n",
    "                actor_pop[name] = popular\n",
    "    \n",
    "    return actor_pop"
   ]
  },
  {
   "cell_type": "code",
   "execution_count": 7,
   "metadata": {},
   "outputs": [
    {
     "data": {
      "text/plain": [
       "{'安潔莉娜裘莉Angelina Jolie(黑魔女2)': 11918,\n",
       " '艾兒芬妮Elle Fanning(黑魔女2)': 11689,\n",
       " '蜜雪兒菲佛Michelle Pfeiffer(黑魔女2)': 16871,\n",
       " '朱諾坦普Juno Temple(黑魔女2)': 6115,\n",
       " '山姆萊利Sam Riley(黑魔女2)': 1138,\n",
       " '蕾絲莉蔓薇爾Lesley Manville(黑魔女2)': 4474,\n",
       " '瓦昆菲尼克斯Joaquin Phoenix(小丑)': 16363,\n",
       " '勞勃狄尼洛Robert De Niro(小丑)': 12913,\n",
       " '希亞溫漢Shea Whigham(小丑)': 5122,\n",
       " '邵雨薇(陪你很久很久)': 2498,\n",
       " '王淨(返校)': 5957,\n",
       " '曾敬驊(返校)': 2731,\n",
       " '傅孟柏(返校)': 3922,\n",
       " '妮可基嫚Nicole Kidman(金翅雀)': 18944,\n",
       " '莎拉保羅森Sarah Paulson(金翅雀)': 11995,\n",
       " '安索艾格特Ansel Elgort(金翅雀)': 11098,\n",
       " '艾紐林巴納德Aneurin Barnard(金翅雀)': 3065,\n",
       " '賴雅妍(聖人大盜)': 1780,\n",
       " '曾之喬(聖人大盜)': 950,\n",
       " '曾志偉Eric Tsang(聖人大盜)': 9682,\n",
       " '巫建和(聖人大盜)': 3361,\n",
       " '路斯明(聖人大盜)': 1848}"
      ]
     },
     "execution_count": 7,
     "metadata": {},
     "output_type": "execute_result"
    }
   ],
   "source": [
    "actor_pop = get_pop_num(movie_urls)\n",
    "actor_pop"
   ]
  },
  {
   "cell_type": "markdown",
   "metadata": {},
   "source": [
    "----------------------------------------------------------"
   ]
  },
  {
   "cell_type": "markdown",
   "metadata": {},
   "source": [
    "根據 dictionary value (popular number) 排序並畫圖"
   ]
  },
  {
   "cell_type": "code",
   "execution_count": 13,
   "metadata": {},
   "outputs": [
    {
     "data": {
      "text/html": [
       "<div>\n",
       "<style scoped>\n",
       "    .dataframe tbody tr th:only-of-type {\n",
       "        vertical-align: middle;\n",
       "    }\n",
       "\n",
       "    .dataframe tbody tr th {\n",
       "        vertical-align: top;\n",
       "    }\n",
       "\n",
       "    .dataframe thead th {\n",
       "        text-align: right;\n",
       "    }\n",
       "</style>\n",
       "<table border=\"1\" class=\"dataframe\">\n",
       "  <thead>\n",
       "    <tr style=\"text-align: right;\">\n",
       "      <th></th>\n",
       "      <th>actor</th>\n",
       "      <th>popularity</th>\n",
       "    </tr>\n",
       "  </thead>\n",
       "  <tbody>\n",
       "    <tr>\n",
       "      <th>0</th>\n",
       "      <td>曾之喬(聖人大盜)</td>\n",
       "      <td>950</td>\n",
       "    </tr>\n",
       "    <tr>\n",
       "      <th>1</th>\n",
       "      <td>山姆萊利Sam Riley(黑魔女2)</td>\n",
       "      <td>1138</td>\n",
       "    </tr>\n",
       "    <tr>\n",
       "      <th>2</th>\n",
       "      <td>賴雅妍(聖人大盜)</td>\n",
       "      <td>1780</td>\n",
       "    </tr>\n",
       "    <tr>\n",
       "      <th>3</th>\n",
       "      <td>路斯明(聖人大盜)</td>\n",
       "      <td>1848</td>\n",
       "    </tr>\n",
       "    <tr>\n",
       "      <th>4</th>\n",
       "      <td>邵雨薇(陪你很久很久)</td>\n",
       "      <td>2498</td>\n",
       "    </tr>\n",
       "  </tbody>\n",
       "</table>\n",
       "</div>"
      ],
      "text/plain": [
       "                 actor  popularity\n",
       "0            曾之喬(聖人大盜)         950\n",
       "1  山姆萊利Sam Riley(黑魔女2)        1138\n",
       "2            賴雅妍(聖人大盜)        1780\n",
       "3            路斯明(聖人大盜)        1848\n",
       "4          邵雨薇(陪你很久很久)        2498"
      ]
     },
     "execution_count": 13,
     "metadata": {},
     "output_type": "execute_result"
    }
   ],
   "source": [
    "sorted_actor_pop = sorted(actor_pop.items(), key=lambda x: x[1])\n",
    "pop_arr = np.array([list(pairs) for pairs in sorted_actor_pop])  \n",
    "actor_pop_df = pd.DataFrame(pop_arr, columns=['actor', 'popularity'])\n",
    "\n",
    "# 確保演員的 popularity 為整數(int)\n",
    "actor_pop_df['popularity'] = actor_pop_df['popularity'].astype(int)\n",
    "actor_pop_df.head()"
   ]
  },
  {
   "cell_type": "code",
   "execution_count": 21,
   "metadata": {},
   "outputs": [
    {
     "data": {
      "text/plain": [
       "<Figure size 2160x1440 with 0 Axes>"
      ]
     },
     "metadata": {},
     "output_type": "display_data"
    },
    {
     "data": {
      "image/png": "[encoded data removed]",
      "text/plain": [
       "<Figure size 432x288 with 1 Axes>"
      ]
     },
     "metadata": {
      "needs_background": "light"
     },
     "output_type": "display_data"
    }
   ],
   "source": [
    "import matplotlib.pyplot as plt\n",
    "from matplotlib.font_manager import FontProperties\n",
    "plt.figure(figsize=(30, 20))\n",
    "\n",
    "myfont = FontProperties(fname='/anaconda3/lib/python3.7/site-packages/matplotlib/mpl-data/fonts/ttf/Microsoft JhengHei.ttf')\n",
    "# plt.rcParams['font.sans-serif'] = ['Microsoft JhengHei']\n",
    "clear_output()\n",
    "\n",
    "ax = actor_pop_df.plot(kind='bar')\n",
    "ax.set_xticklabels(actor_pop_df['actor'], fontproperties=myfont)\n",
    "plt.show()"
   ]
  },
  {
   "cell_type": "markdown",
   "metadata": {},
   "source": [
    "----------------------------------------------------------"
   ]
  },
  {
   "cell_type": "markdown",
   "metadata": {},
   "source": [
    "## 討論影評留言與網友滿意度之間的關係"
   ]
  },
  {
   "cell_type": "markdown",
   "metadata": {},
   "source": [
    "> 此以電影 \"返校\" 為例。"
   ]
  },
  {
   "cell_type": "code",
   "execution_count": 33,
   "metadata": {},
   "outputs": [],
   "source": [
    "def create_movie_url(movie_id):\n",
    "    movie_review_url = 'https://movies.yahoo.com.tw/movieinfo_review.html/id='\n",
    "    sort_order = '?sort=rating1&order=desc&page='\n",
    "    \n",
    "    return \"{0}{1}{2}\".format(movie_review_url, movie_id, sort_order)"
   ]
  },
  {
   "cell_type": "code",
   "execution_count": 34,
   "metadata": {},
   "outputs": [],
   "source": [
    "def get_review(dom):\n",
    "    soup = BeautifulSoup(dom, 'html.parser')\n",
    "    \n",
    "    # reviews 被包裝在 ul (unorder list 中)，每一則 review 被一個 <li></li> 所夾\n",
    "    uls = soup.find('ul', class_='usercom_list')\n",
    "    lists = uls.find_all('li')\n",
    "    \n",
    "    reviews = []\n",
    "    # 對於每則 review，我們要取出他的內容\n",
    "    for li in lists:\n",
    "        div = li.find('div', class_='usercom_inner _c')\n",
    "        review = div.find_all('span')[2].text.strip()  # 使用 find_all 將會回傳 list，包含所有符合條件的物件。\n",
    "        \n",
    "        reviews.append(review)\n",
    "    \n",
    "    return reviews"
   ]
  },
  {
   "cell_type": "code",
   "execution_count": 35,
   "metadata": {},
   "outputs": [
    {
     "data": {
      "application/vnd.jupyter.widget-view+json": {
       "model_id": "256ab0e86c7042029f16cea27838de5e",
       "version_major": 2,
       "version_minor": 0
      },
      "text/plain": [
       "HBox(children=(IntProgress(value=0, max=168), HTML(value='')))"
      ]
     },
     "metadata": {},
     "output_type": "display_data"
    },
    {
     "name": "stdout",
     "output_type": "stream",
     "text": [
      "\n"
     ]
    },
    {
     "data": {
      "text/html": [
       "<div>\n",
       "<style scoped>\n",
       "    .dataframe tbody tr th:only-of-type {\n",
       "        vertical-align: middle;\n",
       "    }\n",
       "\n",
       "    .dataframe tbody tr th {\n",
       "        vertical-align: top;\n",
       "    }\n",
       "\n",
       "    .dataframe thead th {\n",
       "        text-align: right;\n",
       "    }\n",
       "</style>\n",
       "<table border=\"1\" class=\"dataframe\">\n",
       "  <thead>\n",
       "    <tr style=\"text-align: right;\">\n",
       "      <th></th>\n",
       "      <th>reviews</th>\n",
       "      <th>sentiment</th>\n",
       "    </tr>\n",
       "  </thead>\n",
       "  <tbody>\n",
       "    <tr>\n",
       "      <th>0</th>\n",
       "      <td>非常震撼！國片能拍出這樣的質感也不辜負原作，我覺得與有榮焉。 最後：致自由！</td>\n",
       "      <td>1</td>\n",
       "    </tr>\n",
       "    <tr>\n",
       "      <th>1</th>\n",
       "      <td>如果只想看單純恐怖片或者恐怖點很高的話就不建議看返校會給這部電影滿分是真的有把戒嚴時期的壓抑...</td>\n",
       "      <td>1</td>\n",
       "    </tr>\n",
       "    <tr>\n",
       "      <th>2</th>\n",
       "      <td>發人深省的一部電影 這部國片真的要支持一下 然後教官長得像韓國魚...</td>\n",
       "      <td>1</td>\n",
       "    </tr>\n",
       "    <tr>\n",
       "      <th>3</th>\n",
       "      <td>這部一定是五毛跟9.2最大的夢靨</td>\n",
       "      <td>1</td>\n",
       "    </tr>\n",
       "    <tr>\n",
       "      <th>4</th>\n",
       "      <td>大推！高品質國片！看完後得到許多反思～結局很感人！</td>\n",
       "      <td>1</td>\n",
       "    </tr>\n",
       "  </tbody>\n",
       "</table>\n",
       "</div>"
      ],
      "text/plain": [
       "                                             reviews sentiment\n",
       "0             非常震撼！國片能拍出這樣的質感也不辜負原作，我覺得與有榮焉。 最後：致自由！         1\n",
       "1  如果只想看單純恐怖片或者恐怖點很高的話就不建議看返校會給這部電影滿分是真的有把戒嚴時期的壓抑...         1\n",
       "2                發人深省的一部電影 這部國片真的要支持一下 然後教官長得像韓國魚...         1\n",
       "3                                   這部一定是五毛跟9.2最大的夢靨         1\n",
       "4                          大推！高品質國片！看完後得到許多反思～結局很感人！         1"
      ]
     },
     "execution_count": 35,
     "metadata": {},
     "output_type": "execute_result"
    }
   ],
   "source": [
    "movie_id = '10109' # 10109 -> \"返校\"\n",
    "movie_url = create_movie_url(movie_id)\n",
    "\n",
    "# If stars more and equal to 3 -> good reviews; otherwise, bad reviews.\n",
    "last_page = 167\n",
    "good_review_page = 145\n",
    "    \n",
    "good_reviews = []\n",
    "bad_reviews = []\n",
    "\n",
    "for i in tqdm_notebook(range(last_page+1)):\n",
    "    try:\n",
    "        review_url = \"{0}{1}\".format(movie_url, i)\n",
    "        current_page = get_web_page(review_url)\n",
    "            \n",
    "        if i <= good_review_page:\n",
    "            good_reviews.extend(get_review(current_page))\n",
    "        else:\n",
    "            bad_reviews.extend(get_review(current_page))\n",
    "            \n",
    "    except:\n",
    "        continue\n",
    " \n",
    " # 將字詞中的空白、分隔線去除\n",
    "good_reviews = [x.replace('\\r', '').replace('\\n', '') for x in good_reviews]\n",
    "bad_reviews = [x.replace('\\r', '').replace('\\n', '') for x in bad_reviews]\n",
    "    \n",
    " # 幫好的評論加上標記(標準：三顆星以上設為 good，其餘反之)\n",
    "good_sentiment = np.array([1]*len(good_reviews)).reshape(1, -1).ravel()\n",
    "bad_sentiment = np.array([0]*len(bad_reviews)).reshape(1, -1).ravel()\n",
    "\n",
    "\n",
    "good_df = pd.DataFrame([good_reviews, good_sentiment]).T\n",
    "bad_df = pd.DataFrame([bad_reviews, bad_sentiment]).T\n",
    "    \n",
    "reviews_df = pd.concat([good_df, bad_df])\n",
    "reviews_df.columns=['reviews', 'sentiment']\n",
    "reviews_df.index = pd.RangeIndex(len(reviews_df.index))\n",
    "reviews_df.head()"
   ]
  },
  {
   "cell_type": "code",
   "execution_count": null,
   "metadata": {},
   "outputs": [],
   "source": []
  }
 ],
 "metadata": {
  "kernelspec": {
   "display_name": "Python 3",
   "language": "python",
   "name": "python3"
  },
  "language_info": {
   "codemirror_mode": {
    "name": "ipython",
    "version": 3
   },
   "file_extension": ".py",
   "mimetype": "text/x-python",
   "name": "python",
   "nbconvert_exporter": "python",
   "pygments_lexer": "ipython3",
   "version": "3.7.3"
  }
 },
 "nbformat": 4,
 "nbformat_minor": 2
}

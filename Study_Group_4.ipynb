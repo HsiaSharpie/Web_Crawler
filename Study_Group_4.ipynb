{
 "cells": [
  {
   "cell_type": "markdown",
   "metadata": {},
   "source": [
    "### Python Study Group week 4"
   ]
  },
  {
   "cell_type": "markdown",
   "metadata": {},
   "source": [
    "### Theme: 使用 Selenium 爬取 Image "
   ]
  },
  {
   "cell_type": "markdown",
   "metadata": {},
   "source": [
    "------------------------------------------------------------"
   ]
  },
  {
   "cell_type": "markdown",
   "metadata": {},
   "source": [
    "### Let's get it started !"
   ]
  },
  {
   "cell_type": "markdown",
   "metadata": {},
   "source": [
    "<br>"
   ]
  },
  {
   "cell_type": "markdown",
   "metadata": {},
   "source": [
    "### Review : Selenium\n",
    "```\n",
    "Selenium 原為網頁測試工具，但由於它可以直接以程式碼操控瀏覽的特性，使其成為網頁爬蟲的重要工具之一。\n",
    "下面會介紹如何使用 selenium 呼叫 Chrome 瀏覽器。\n",
    "\n",
    "Webdriver 支援 Chrome, Firefox 等瀏覽器。\n",
    "```"
   ]
  },
  {
   "cell_type": "code",
   "execution_count": 14,
   "metadata": {},
   "outputs": [],
   "source": [
    "import requests\n",
    "from bs4 import BeautifulSoup\n",
    "from selenium import webdriver\n",
    "from tqdm import tqdm_notebook\n",
    "\n",
    "import numpy as np\n",
    "import pandas as pd\n",
    "import os, sys\n",
    "import urllib"
   ]
  },
  {
   "cell_type": "markdown",
   "metadata": {},
   "source": [
    "### 使用 Selenium 之 Webdriver 開啟 PTT 表特版\n",
    "```\n",
    "以下，示範如何透過幾行程式碼呈現了三個步驟：\n",
    "1. webdriver.Chrome('....') -> 載入 Chrome driver。\n",
    "2. driver.get('https:/....') -> 瀏覽 ptt 表特版首頁。\n",
    "3. driver.find_element_by_class_name('over18-button-container').click() -> 點選已滿 18 歲按鈕。\n",
    "4. driver.close() -> 關閉瀏覽頁面。\n",
    "\n",
    "Note:\n",
    "因 ptt 表特版必須年滿 18 歲才能造訪，故必須點選按鈕後再進行網頁解析。\n",
    "\n",
    "若使用先前所說的 requests 模組，就可直接在 requests 的 HTTP method 中動手腳即可：\n",
    "-> request.get(\n",
    "    url=url,\n",
    "    cookies={'over18':'1'}\n",
    "   )\n",
    "```"
   ]
  },
  {
   "cell_type": "code",
   "execution_count": 19,
   "metadata": {},
   "outputs": [],
   "source": [
    "# Example:\n",
    "driver = webdriver.Chrome('/Users/samhsia/政大/Python_Study_Group/chromedriver')\n",
    "\n",
    "pttbeauty_url = 'https://www.ptt.cc/bbs/Beauty/index.html'\n",
    "driver.get(pttbeauty_url)\n",
    "driver.find_element_by_class_name('over18-button-container').click()\n",
    "driver.close()"
   ]
  },
  {
   "cell_type": "markdown",
   "metadata": {},
   "source": [
    "### 撰寫對網站發出請求(requests)的function\n",
    "```\n",
    "通過篩選條件的發文，以使 function 發送請求。\n",
    "```"
   ]
  },
  {
   "cell_type": "code",
   "execution_count": 16,
   "metadata": {},
   "outputs": [],
   "source": [
    "def get_web_page(url):\n",
    "    resp = requests.get(\n",
    "        url = url,\n",
    "        cookies={'over18': '1'}\n",
    "    )\n",
    "    if resp.status_code != 200:\n",
    "        print('Invalid url: ', resp.url)\n",
    "        return None\n",
    "    else:\n",
    "        return resp.text"
   ]
  },
  {
   "cell_type": "markdown",
   "metadata": {},
   "source": [
    "### 解析頁面爬取通過篩選條件的圖片，並儲存到資料夾中。\n",
    "```\n",
    "在點選通過 18 歲的按鈕後，我們進到表特版的首頁。\n",
    "接著就能夠過 BeautifulSoup 去解析，並爬取圖片。\n",
    "\n",
    "Note:\n",
    "    創建資料夾：os.mkdir()\n",
    "```"
   ]
  },
  {
   "cell_type": "code",
   "execution_count": 17,
   "metadata": {},
   "outputs": [
    {
     "data": {
      "application/vnd.jupyter.widget-view+json": {
       "model_id": "d4bafb77b3fa48ff89823050521c1353",
       "version_major": 2,
       "version_minor": 0
      },
      "text/plain": [
       "HBox(children=(IntProgress(value=0, max=18), HTML(value='')))"
      ]
     },
     "metadata": {},
     "output_type": "display_data"
    }
   ],
   "source": [
    "if __name__ == '__main__':\n",
    "    # Open the webdriver\n",
    "    driver = webdriver.Chrome('/Users/samhsia/政大/Python_Study_Group/chromedriver')\n",
    "    pttbeauty_url = 'https://www.ptt.cc/bbs/Beauty/index.html'\n",
    "    \n",
    "    # get/dive into web page\n",
    "    driver.get(pttbeauty_url)\n",
    "    driver.find_element_by_class_name('over18-button-container').click()\n",
    "    \n",
    "    # make directory\n",
    "    if not os.path.exists('image_folder'):\n",
    "        os.mkdir('image_folder')\n",
    "    else:\n",
    "        pass\n",
    "\n",
    "    # Parse the page\n",
    "    soup = BeautifulSoup(driver.page_source)\n",
    "    main_container = soup.find('div', {'id': 'main-container'})\n",
    "    divs = main_container.find_all('div', class_='r-ent')\n",
    "\n",
    "    for div in tqdm_notebook(divs):\n",
    "        push_count = 0\n",
    "        push_str = div.find('div', class_='nrec').text\n",
    "        title = div.find('div', class_='title').text.strip()\n",
    "\n",
    "        if push_str:\n",
    "            try:\n",
    "                push_count = int(push_str)\n",
    "            except ValueError:\n",
    "                if push_str == '爆':\n",
    "                    push_count = 99\n",
    "                elif push_str.startswith('X'):\n",
    "                    push_count = -10  \n",
    "\n",
    "        # filter with condition & get url\n",
    "        if not title.startswith('[公告]') and push_count > 5:\n",
    "            beauty_url = \"{0}{1}\".format('https://www.ptt.cc', div.find('a')['href'])\n",
    "\n",
    "            resp = get_web_page(beauty_url)\n",
    "            beauty_soup = BeautifulSoup(resp, 'html.parser')\n",
    "            img_divs = beauty_soup.find_all('div', class_='richcontent')\n",
    "\n",
    "            # set the file route\n",
    "            file_path = '/Users/samhsia/政大/Python_Study_Group/image_folder'\n",
    "            full_filename = os.path.join(file_path, title)\n",
    "\n",
    "            # store the image to the folder with corresponding filenames\n",
    "            for i, d in enumerate(img_divs):\n",
    "                url = d.find('a')['href']\n",
    "                url = \"https:\" + url + '.jpg'\n",
    "                urllib.request.urlretrieve(url, \"{0}{1}{2}_.jpg\".format(full_filename, '_', i)) \n",
    "\n",
    "    driver.close()"
   ]
  },
  {
   "cell_type": "code",
   "execution_count": null,
   "metadata": {},
   "outputs": [],
   "source": []
  }
 ],
 "metadata": {
  "kernelspec": {
   "display_name": "Python 3",
   "language": "python",
   "name": "python3"
  },
  "language_info": {
   "codemirror_mode": {
    "name": "ipython",
    "version": 3
   },
   "file_extension": ".py",
   "mimetype": "text/x-python",
   "name": "python",
   "nbconvert_exporter": "python",
   "pygments_lexer": "ipython3",
   "version": "3.7.3"
  }
 },
 "nbformat": 4,
 "nbformat_minor": 2
}

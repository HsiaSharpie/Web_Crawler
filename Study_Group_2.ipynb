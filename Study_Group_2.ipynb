{
 "cells": [
  {
   "cell_type": "markdown",
   "metadata": {},
   "source": [
    "### Python Study Group week2"
   ]
  },
  {
   "cell_type": "markdown",
   "metadata": {},
   "source": [
    "### Theme : 使用偽裝 user-agent 爬取網站"
   ]
  },
  {
   "cell_type": "markdown",
   "metadata": {},
   "source": [
    "------------------------------------------------------------"
   ]
  },
  {
   "cell_type": "markdown",
   "metadata": {},
   "source": [
    "### Let's get it started !"
   ]
  },
  {
   "cell_type": "markdown",
   "metadata": {},
   "source": [
    "```\n",
    "在對方的網站伺服器沒有設定任何檢查、防爬裝置時，\n",
    "我們可直接使用 requests 發送請求，對方就會將網站的內容回應給我們。\n",
    "```"
   ]
  },
  {
   "cell_type": "markdown",
   "metadata": {},
   "source": [
    "```\n",
    "但如果對方的伺服器有設定防爬，則我們很有可能會被:\n",
    "- 拒絕訪問\n",
    "- 導向其他網站\n",
    "\n",
    "```"
   ]
  },
  {
   "cell_type": "markdown",
   "metadata": {},
   "source": [
    "> 此篇主要以被導向其他網站時，該如何解決為目標。"
   ]
  },
  {
   "cell_type": "markdown",
   "metadata": {},
   "source": [
    "------------------------------------------------------------"
   ]
  },
  {
   "cell_type": "markdown",
   "metadata": {},
   "source": [
    "### Import Libraries"
   ]
  },
  {
   "cell_type": "code",
   "execution_count": 1,
   "metadata": {},
   "outputs": [],
   "source": [
    "import requests\n",
    "from bs4 import BeautifulSoup\n",
    "\n",
    "from tqdm import tqdm_notebook\n",
    "import numpy as np\n",
    "import pandas as pd\n",
    "import os"
   ]
  },
  {
   "cell_type": "markdown",
   "metadata": {},
   "source": [
    "------------------------------------------------------------"
   ]
  },
  {
   "cell_type": "markdown",
   "metadata": {},
   "source": [
    "### 以蝦皮購物網頁為例"
   ]
  },
  {
   "cell_type": "code",
   "execution_count": 2,
   "metadata": {},
   "outputs": [],
   "source": [
    "def format_url(keyword):\n",
    "    shopee_search_url = 'https://shopee.tw/search?keyword='\n",
    "    return \"{0}{1}\".format(shopee_search_url, keyword)"
   ]
  },
  {
   "cell_type": "code",
   "execution_count": 4,
   "metadata": {},
   "outputs": [],
   "source": [
    "def get_web_page(url):\n",
    "    resp = requests.get(url)\n",
    "    resp.encoding = 'utf-8'\n",
    "    \n",
    "    if resp.status_code != 200:\n",
    "        print('Invalid url:', resp.url)\n",
    "        return None\n",
    "    else:\n",
    "        return resp, resp.text"
   ]
  },
  {
   "cell_type": "code",
   "execution_count": 5,
   "metadata": {},
   "outputs": [
    {
     "name": "stdout",
     "output_type": "stream",
     "text": [
      "Status code: 200\n"
     ]
    }
   ],
   "source": [
    "keyword = 'iphone11'\n",
    "\n",
    "response, current_page = get_web_page(format_url(keyword))\n",
    "print(\"Status code: {0}\".format(response.status_code))"
   ]
  },
  {
   "cell_type": "markdown",
   "metadata": {},
   "source": [
    "```\n",
    "由以上我們成功透過 requests 取得網頁回傳，故此時的status code為 200。\n",
    "```"
   ]
  },
  {
   "cell_type": "code",
   "execution_count": 74,
   "metadata": {},
   "outputs": [
    {
     "name": "stdout",
     "output_type": "stream",
     "text": [
      "None\n"
     ]
    }
   ],
   "source": [
    "soup = BeautifulSoup(current_page, 'html.parser')\n",
    "items = soup.find(\"div\", class_=\"lazy-image__container mynD6f\")\n",
    "print(items)"
   ]
  },
  {
   "cell_type": "markdown",
   "metadata": {},
   "source": [
    "------------------------------------------------------------"
   ]
  },
  {
   "cell_type": "markdown",
   "metadata": {},
   "source": [
    "```\n",
    "過程看似很順遂，但當我要透過 html/css 標籤取得網頁資料時，\n",
    "伺服器卻不回傳任何資訊給你，發生回傳 None 的狀況。\n",
    "雖然沒有被重新導向其他網頁，但是user-agent並非是伺服器所認可的user-agent，就會拒絕將商品的資訊回傳給你\n",
    "只丟給你一個空空的頁面。\n",
    "```"
   ]
  },
  {
   "cell_type": "markdown",
   "metadata": {},
   "source": [
    "------------------------------------------------------------"
   ]
  },
  {
   "cell_type": "markdown",
   "metadata": {},
   "source": [
    "```\n",
    "接下來，我們將在向伺服器發出 requests 時，傳入 User-Agent 以解決此問題。\n",
    "```"
   ]
  },
  {
   "cell_type": "markdown",
   "metadata": {},
   "source": [
    "```\n",
    "Note:\n",
    "通常在不用登入之頁面使用 get 去取得網頁資料還會發生問題的，我們可用：\n",
    "- 發送假 User-Agent\n",
    "- 偷用 cookies\n",
    "等方式去解決問題，而這兩種在 requests 模組中使用非常簡單、方便。\n",
    "```"
   ]
  },
  {
   "cell_type": "markdown",
   "metadata": {},
   "source": [
    "------------------------------------------------------------"
   ]
  },
  {
   "cell_type": "markdown",
   "metadata": {},
   "source": [
    "### User-Agent"
   ]
  },
  {
   "cell_type": "markdown",
   "metadata": {},
   "source": [
    "```bash\n",
    "用途：\n",
    "瀏覽器在送出 request 的時候，會送出 header 告訴伺服器(server)一些資訊，\n",
    "包含瀏覽器是什麼、用什麼主機等···。\n",
    "而 User-Agent 就是這些 \"識別字串\"。\n",
    "```"
   ]
  },
  {
   "cell_type": "markdown",
   "metadata": {},
   "source": [
    "```bash\n",
    "首先，先使用 pip 安裝 fake-useragent > ! pip install fake-useragent\n",
    "接著，我們可初始化 UserAgent 物件，並使用 random 屬性產生隨機的 User-Agent。\n",
    "```"
   ]
  },
  {
   "cell_type": "code",
   "execution_count": 6,
   "metadata": {},
   "outputs": [
    {
     "name": "stdout",
     "output_type": "stream",
     "text": [
      "Mozilla/5.0 (Windows NT 6.2; WOW64) AppleWebKit/537.36 (KHTML, like Gecko) Chrome/27.0.1500.55 Safari/537.36\n"
     ]
    }
   ],
   "source": [
    "from fake_useragent import UserAgent\n",
    "ua = UserAgent()\n",
    "print(ua.random)"
   ]
  },
  {
   "cell_type": "markdown",
   "metadata": {},
   "source": [
    "------------------------------------------------------------"
   ]
  },
  {
   "cell_type": "markdown",
   "metadata": {},
   "source": [
    "```\n",
    "接著，我們將 User-Agent 放入 headers，再將它丟入 requests.get() 當作參數。\n",
    "```"
   ]
  },
  {
   "cell_type": "code",
   "execution_count": 64,
   "metadata": {},
   "outputs": [],
   "source": [
    "import requests\n",
    "from fake_useragent import UserAgent"
   ]
  },
  {
   "cell_type": "code",
   "execution_count": 65,
   "metadata": {},
   "outputs": [],
   "source": [
    "def get_web_page_2(url, headers):\n",
    "    resp = requests.get(\n",
    "        url = url,\n",
    "        headers = headers  \n",
    "    )\n",
    "    if resp.status_code != 200:\n",
    "        print(\"Invalid url:\", resp.url)\n",
    "        return None\n",
    "    else:\n",
    "        return response, resp.text"
   ]
  },
  {
   "cell_type": "code",
   "execution_count": 69,
   "metadata": {},
   "outputs": [
    {
     "name": "stdout",
     "output_type": "stream",
     "text": [
      "Status code: 200\n"
     ]
    }
   ],
   "source": [
    "keyword = 'iphone11'\n",
    "iphone11_url = format_url(keyword)\n",
    "ua = UserAgent()\n",
    "headers = {\n",
    "    'User-Agent': ua.random\n",
    "}\n",
    "\n",
    "response, current_page = get_web_page_2(iphone11_url, headers)\n",
    "print(\"Status code: {0}\".format(response.status_code))"
   ]
  },
  {
   "cell_type": "code",
   "execution_count": 95,
   "metadata": {},
   "outputs": [
    {
     "name": "stdout",
     "output_type": "stream",
     "text": [
      "[]\n"
     ]
    }
   ],
   "source": [
    "soup = BeautifulSoup(current_page, 'html.parser')\n",
    "items = soup.find_all(\"div\", class_=\"_1NoI8_ _2gr36I\")\n",
    "print(items)"
   ]
  },
  {
   "cell_type": "markdown",
   "metadata": {},
   "source": [
    "------------------------------------------------------------"
   ]
  },
  {
   "cell_type": "markdown",
   "metadata": {},
   "source": [
    "```bash\n",
    "同樣地，我們還是無法從伺服器回傳網頁資訊(相同地得到 None)，可能是因為 User-Agent 仍是 Server 所不允許的。\n",
    "從 Shopee 的 robot.txt 檔，我們可發現哪些 UA 是允許、哪些是 disallow？\n",
    "```"
   ]
  },
  {
   "cell_type": "markdown",
   "metadata": {},
   "source": [
    "```\n",
    "由檔案可發現，當以下幾種狀況是允許的：\n",
    "- User-Agent: Googlebot\n",
    "- User-Agent: Bingbot\n",
    "- Crawl-delay: 0.1\n",
    "- Crawl-delay: 1\n",
    "```"
   ]
  },
  {
   "cell_type": "code",
   "execution_count": 108,
   "metadata": {},
   "outputs": [
    {
     "name": "stdout",
     "output_type": "stream",
     "text": [
      "iPhone 11 Pro MAX 手機雙攝像頭鏡頭保護圈 蘋果全系iX i11金屬鏡頭保護圈鏡頭加高保護 後置攝像保護\n",
      "【299免運】iPhone 霧面碳纖維 玻璃貼 保護貼 iPhone11 XR Xs Max i6 i7 i8【D97】\n",
      "氣囊加厚 iPhone11 pro 手機殼 xs xr i11 i11pro 保護殼 i7plus i8plus 防摔殼\n",
      "iPhone11 Pro Max 5D滿版XR XS X玻璃貼iPhone8 Plus玻璃保護貼i11 i8 i7 i6\n",
      "iphone 11 PROMAX XR X 8PLUS i8 i7 防碎邊 5D全玻璃 防指紋 抗油污 高清 滿版保護貼\n"
     ]
    }
   ],
   "source": [
    "keyword = 'iphone11'\n",
    "iphone11_url = format_url(keyword)\n",
    "headers = {\n",
    "    'User-Agent': 'Googlebot',\n",
    "}\n",
    "\n",
    "r = requests.get(url,headers=headers)\n",
    "\n",
    "soup = BeautifulSoup(r.text, 'html.parser')\n",
    "items = soup.find_all(\"div\", class_=\"_1NoI8_ _2gr36I\")\n",
    "\n",
    "for idx, item in enumerate(items):\n",
    "    if idx < 5:\n",
    "        print(item.text)"
   ]
  },
  {
   "cell_type": "markdown",
   "metadata": {},
   "source": [
    "------------------------------------------------------------"
   ]
  },
  {
   "cell_type": "markdown",
   "metadata": {},
   "source": [
    "Note:\n",
    "<br>其實蝦皮有提供 API 讓我們取得網頁商品資訊，它回傳的內容也是熟悉的 Json 形式。"
   ]
  }
 ],
 "metadata": {
  "kernelspec": {
   "display_name": "Python 3",
   "language": "python",
   "name": "python3"
  },
  "language_info": {
   "codemirror_mode": {
    "name": "ipython",
    "version": 3
   },
   "file_extension": ".py",
   "mimetype": "text/x-python",
   "name": "python",
   "nbconvert_exporter": "python",
   "pygments_lexer": "ipython3",
   "version": "3.7.3"
  }
 },
 "nbformat": 4,
 "nbformat_minor": 2
}

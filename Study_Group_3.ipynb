{
 "cells": [
  {
   "cell_type": "markdown",
   "metadata": {},
   "source": [
    "### Python Study Group week 3"
   ]
  },
  {
   "cell_type": "markdown",
   "metadata": {},
   "source": [
    "### Theme: requests 模組中的 POST Method"
   ]
  },
  {
   "cell_type": "markdown",
   "metadata": {},
   "source": [
    "------------------------------------------------------------"
   ]
  },
  {
   "cell_type": "markdown",
   "metadata": {},
   "source": [
    "### Let's get it started !"
   ]
  },
  {
   "cell_type": "markdown",
   "metadata": {},
   "source": [
    "此篇教學參考文章 : [淺談 HTTP Method：表單中的 GET 與 POST 有什麼差別？](https://blog.toright.com/posts/1203/%E6%B7%BA%E8%AB%87-http-method%EF%BC%9A%E8%A1%A8%E5%96%AE%E4%B8%AD%E7%9A%84-get-%E8%88%87-post-%E6%9C%89%E4%BB%80%E9%BA%BC%E5%B7%AE%E5%88%A5%EF%BC%9F.html)"
   ]
  },
  {
   "cell_type": "markdown",
   "metadata": {},
   "source": [
    "### Review:\n",
    "```\n",
    "前面提到，我們可用 requests 模組發送不同類型的請求，前面所提到的都是使用 GET HTTP Method。\n",
    "```"
   ]
  },
  {
   "cell_type": "markdown",
   "metadata": {},
   "source": [
    "```\n",
    "Note:\n",
    "(1) HTTP(Hypertext Transfer Protocol，超文本傳輸協定)\n",
    "    HTTP 是用戶終端(Client)和伺服器端(Server)請求(Request)和應答(Response)的標準。\n",
    "\n",
    "(2) 在 HTTP 1.1 版本中，定義了8種 HTTP Method，其中包含：\n",
    "    - OPTIONS\n",
    "    - GET\n",
    "    - HEAD\n",
    "    - POST\n",
    "    - PUT\n",
    "    - DELETE\n",
    "    - TRACE\n",
    "    - CONNECT\n",
    "\n",
    "其中，GET/POST 就是最常被使用到的，也是最常用來設計\"表單\"的形式。\n",
    "\n",
    "```"
   ]
  },
  {
   "cell_type": "markdown",
   "metadata": {},
   "source": [
    "------------------------------------------------------------"
   ]
  },
  {
   "cell_type": "markdown",
   "metadata": {},
   "source": [
    "### GET v.s. POST ?"
   ]
  },
  {
   "cell_type": "markdown",
   "metadata": {},
   "source": [
    "```\n",
    "GET 與 POST 的主要差別在於：\n",
    "    - POST 相較於 GET 可以傳送較多資料\n",
    "    - POST 比 GET 還要來得更安全\n",
    "    \n",
    "但差別真的是如此嗎？\n",
    "```"
   ]
  },
  {
   "cell_type": "markdown",
   "metadata": {},
   "source": [
    "```\n",
    "我們來比較一下 GET 與 POST 的差別：\n",
    "\n",
    "GET:\n",
    "1. 我們向特定的資源發送請求要求資料。\n",
    "2. 類似於查詢動作。\n",
    "3. GET Method 中是不允許在 message-body 中傳遞資料的，因為是 GET，就是要取資料的意思。\n",
    "3. 使用 GET 的時候我們直接將要傳送的資料以 Query String（一種Key/Vaule的編碼方式)\n",
    "   加在我們要寄送的地址(URL)後面，然後進行傳送。\n",
    "   \n",
    "Example:\n",
    "url ->\n",
    "https://www.reuters.com/search/news\n",
    "\n",
    "使用 GET Method 後 ->\n",
    "https://www.reuters.com/search/news?sortBy=&dateRange=&blob=APPLE\n",
    "\n",
    "可發現瀏覽器會自動將表單內容轉為 Query String 加在 URL 進行連線。\n",
    "```"
   ]
  },
  {
   "cell_type": "markdown",
   "metadata": {},
   "source": [
    "```\n",
    "POST:\n",
    "1. 我們向特定的資源提交數據，提交後，會經由伺服器後台運算，將符合你所設定條件的結果回傳給你。\n",
    "2. 類似於更新操作。\n",
    "3. 向指定資源提交資料，請求伺服器進行處理(例如提交表單或者上傳檔案)\n",
    "   資料被包含在請求本文中，這個請求可能會建立新的資源或修改現有資源，或二者皆有。\n",
    "4. 將參數放至 Request 的 message body 中，因此不會在URL看到參數，適合用於隱密性較高的資料。\n",
    "```\n",
    "\n",
    "```\n",
    "以下我們以交通部台鐵的網站為例，使用 requests 的 POST Method 爬取資料。\n",
    "```\n",
    "------------------------------------------------------------"
   ]
  },
  {
   "cell_type": "markdown",
   "metadata": {},
   "source": [
    "### Import Libraries"
   ]
  },
  {
   "cell_type": "code",
   "execution_count": 5,
   "metadata": {},
   "outputs": [],
   "source": [
    "import requests\n",
    "from bs4 import BeautifulSoup\n",
    "\n",
    "from tqdm import tqdm_notebook\n",
    "from IPython.display import clear_output\n",
    "\n",
    "import numpy as np\n",
    "import pandas as pd\n",
    "import os"
   ]
  },
  {
   "cell_type": "markdown",
   "metadata": {},
   "source": [
    "###  撰寫對網站發出 POST 請求(requests)的function"
   ]
  },
  {
   "cell_type": "code",
   "execution_count": 23,
   "metadata": {},
   "outputs": [],
   "source": [
    "railway_url = 'https://www.thsrc.com.tw/tw/TimeTable/SearchResult'\n",
    "\n",
    "def get_post_web_page(url, data):\n",
    "    resp = requests.post(url, data)\n",
    "    \n",
    "    if resp.status_code != 200:\n",
    "        print(\"Invalid url:\", resp.url)\n",
    "        return None\n",
    "    else:\n",
    "        return resp.text"
   ]
  },
  {
   "cell_type": "markdown",
   "metadata": {},
   "source": [
    "### 由開發者工具檢查：\n",
    "```\n",
    "提交資料 -> 開發者工具 -> Network -> Document -> Headers -> Request Method\n",
    "If Request Method == \"POST\":\n",
    "    查看 Headers 中的 form data，並以 dictionary 方式儲存。\n",
    "else:\n",
    "    requests with other http methods。\n",
    "```"
   ]
  },
  {
   "cell_type": "code",
   "execution_count": 24,
   "metadata": {},
   "outputs": [],
   "source": [
    "# Form data from headers\n",
    "form_data = {\n",
    "    'StartStation': '977abb69-413a-4ccf-a109-0272c24fd490',\n",
    "    'EndStation': 'e6e26e66-7dc1-458f-b2f3-71ce65fdc95f',\n",
    "    'DepartueSearchDate': '2019/11/11',\n",
    "    'DepartueSearchTime': '06:00',\n",
    "    'SearchType': 'S'\n",
    "}"
   ]
  },
  {
   "cell_type": "markdown",
   "metadata": {},
   "source": [
    "### POST Method 使用與抓資料"
   ]
  },
  {
   "cell_type": "code",
   "execution_count": 28,
   "metadata": {},
   "outputs": [
    {
     "data": {
      "text/plain": [
       "'去程'"
      ]
     },
     "execution_count": 28,
     "metadata": {},
     "output_type": "execute_result"
    }
   ],
   "source": [
    "resp = get_post_web_page(railway_url, form_data)\n",
    "\n",
    "soup = BeautifulSoup(resp, 'html.parser')\n",
    "soup.find('div', class_='trip_title').find('span',class_='trip_type').text"
   ]
  }
 ],
 "metadata": {
  "kernelspec": {
   "display_name": "Python 3",
   "language": "python",
   "name": "python3"
  },
  "language_info": {
   "codemirror_mode": {
    "name": "ipython",
    "version": 3
   },
   "file_extension": ".py",
   "mimetype": "text/x-python",
   "name": "python",
   "nbconvert_exporter": "python",
   "pygments_lexer": "ipython3",
   "version": "3.7.3"
  }
 },
 "nbformat": 4,
 "nbformat_minor": 2
}
